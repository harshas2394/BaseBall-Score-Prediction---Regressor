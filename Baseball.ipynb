{
 "cells": [
  {
   "cell_type": "code",
   "execution_count": 1,
   "metadata": {},
   "outputs": [],
   "source": [
    "import pandas as pd\n",
    "import numpy as np\n",
    "import matplotlib.pyplot as plt\n",
    "import seaborn as sns"
   ]
  },
  {
   "cell_type": "code",
   "execution_count": 2,
   "metadata": {},
   "outputs": [],
   "source": [
    "df = pd.read_csv('baseball.csv')"
   ]
  },
  {
   "cell_type": "code",
   "execution_count": 3,
   "metadata": {},
   "outputs": [],
   "source": [
    "df_raw = df.copy()"
   ]
  },
  {
   "cell_type": "code",
   "execution_count": 4,
   "metadata": {},
   "outputs": [
    {
     "data": {
      "text/html": [
       "<div>\n",
       "<style scoped>\n",
       "    .dataframe tbody tr th:only-of-type {\n",
       "        vertical-align: middle;\n",
       "    }\n",
       "\n",
       "    .dataframe tbody tr th {\n",
       "        vertical-align: top;\n",
       "    }\n",
       "\n",
       "    .dataframe thead th {\n",
       "        text-align: right;\n",
       "    }\n",
       "</style>\n",
       "<table border=\"1\" class=\"dataframe\">\n",
       "  <thead>\n",
       "    <tr style=\"text-align: right;\">\n",
       "      <th></th>\n",
       "      <th>Team</th>\n",
       "      <th>League</th>\n",
       "      <th>Year</th>\n",
       "      <th>RS</th>\n",
       "      <th>RA</th>\n",
       "      <th>W</th>\n",
       "      <th>OBP</th>\n",
       "      <th>SLG</th>\n",
       "      <th>BA</th>\n",
       "      <th>Playoffs</th>\n",
       "      <th>RankSeason</th>\n",
       "      <th>RankPlayoffs</th>\n",
       "      <th>G</th>\n",
       "      <th>OOBP</th>\n",
       "      <th>OSLG</th>\n",
       "    </tr>\n",
       "  </thead>\n",
       "  <tbody>\n",
       "    <tr>\n",
       "      <td>0</td>\n",
       "      <td>ARI</td>\n",
       "      <td>NL</td>\n",
       "      <td>2012</td>\n",
       "      <td>734</td>\n",
       "      <td>688</td>\n",
       "      <td>81</td>\n",
       "      <td>0.328</td>\n",
       "      <td>0.418</td>\n",
       "      <td>0.259</td>\n",
       "      <td>0</td>\n",
       "      <td>NaN</td>\n",
       "      <td>NaN</td>\n",
       "      <td>162</td>\n",
       "      <td>0.317</td>\n",
       "      <td>0.415</td>\n",
       "    </tr>\n",
       "    <tr>\n",
       "      <td>1</td>\n",
       "      <td>ATL</td>\n",
       "      <td>NL</td>\n",
       "      <td>2012</td>\n",
       "      <td>700</td>\n",
       "      <td>600</td>\n",
       "      <td>94</td>\n",
       "      <td>0.320</td>\n",
       "      <td>0.389</td>\n",
       "      <td>0.247</td>\n",
       "      <td>1</td>\n",
       "      <td>4.0</td>\n",
       "      <td>5.0</td>\n",
       "      <td>162</td>\n",
       "      <td>0.306</td>\n",
       "      <td>0.378</td>\n",
       "    </tr>\n",
       "    <tr>\n",
       "      <td>2</td>\n",
       "      <td>BAL</td>\n",
       "      <td>AL</td>\n",
       "      <td>2012</td>\n",
       "      <td>712</td>\n",
       "      <td>705</td>\n",
       "      <td>93</td>\n",
       "      <td>0.311</td>\n",
       "      <td>0.417</td>\n",
       "      <td>0.247</td>\n",
       "      <td>1</td>\n",
       "      <td>5.0</td>\n",
       "      <td>4.0</td>\n",
       "      <td>162</td>\n",
       "      <td>0.315</td>\n",
       "      <td>0.403</td>\n",
       "    </tr>\n",
       "    <tr>\n",
       "      <td>3</td>\n",
       "      <td>BOS</td>\n",
       "      <td>AL</td>\n",
       "      <td>2012</td>\n",
       "      <td>734</td>\n",
       "      <td>806</td>\n",
       "      <td>69</td>\n",
       "      <td>0.315</td>\n",
       "      <td>0.415</td>\n",
       "      <td>0.260</td>\n",
       "      <td>0</td>\n",
       "      <td>NaN</td>\n",
       "      <td>NaN</td>\n",
       "      <td>162</td>\n",
       "      <td>0.331</td>\n",
       "      <td>0.428</td>\n",
       "    </tr>\n",
       "    <tr>\n",
       "      <td>4</td>\n",
       "      <td>CHC</td>\n",
       "      <td>NL</td>\n",
       "      <td>2012</td>\n",
       "      <td>613</td>\n",
       "      <td>759</td>\n",
       "      <td>61</td>\n",
       "      <td>0.302</td>\n",
       "      <td>0.378</td>\n",
       "      <td>0.240</td>\n",
       "      <td>0</td>\n",
       "      <td>NaN</td>\n",
       "      <td>NaN</td>\n",
       "      <td>162</td>\n",
       "      <td>0.335</td>\n",
       "      <td>0.424</td>\n",
       "    </tr>\n",
       "  </tbody>\n",
       "</table>\n",
       "</div>"
      ],
      "text/plain": [
       "  Team League  Year   RS   RA   W    OBP    SLG     BA  Playoffs  RankSeason  \\\n",
       "0  ARI     NL  2012  734  688  81  0.328  0.418  0.259         0         NaN   \n",
       "1  ATL     NL  2012  700  600  94  0.320  0.389  0.247         1         4.0   \n",
       "2  BAL     AL  2012  712  705  93  0.311  0.417  0.247         1         5.0   \n",
       "3  BOS     AL  2012  734  806  69  0.315  0.415  0.260         0         NaN   \n",
       "4  CHC     NL  2012  613  759  61  0.302  0.378  0.240         0         NaN   \n",
       "\n",
       "   RankPlayoffs    G   OOBP   OSLG  \n",
       "0           NaN  162  0.317  0.415  \n",
       "1           5.0  162  0.306  0.378  \n",
       "2           4.0  162  0.315  0.403  \n",
       "3           NaN  162  0.331  0.428  \n",
       "4           NaN  162  0.335  0.424  "
      ]
     },
     "execution_count": 4,
     "metadata": {},
     "output_type": "execute_result"
    }
   ],
   "source": [
    "df.head()"
   ]
  },
  {
   "cell_type": "code",
   "execution_count": 5,
   "metadata": {},
   "outputs": [],
   "source": [
    "#RA - Runs Allowed\n",
    "#RS - Runs Scored\n",
    "#OBP - On Base Percentage\n",
    "#SLG - Slugging Percentage\n",
    "#BA - Batting Average\n",
    "#OOBP - Opponent's OBP\n",
    "#OSLG - Opponent's SLG\n",
    "#W - No of wins in that season\n",
    "#Statistical Analysis Clip from Moneyball (2011)"
   ]
  },
  {
   "cell_type": "code",
   "execution_count": 6,
   "metadata": {},
   "outputs": [
    {
     "data": {
      "text/plain": [
       "(1232, 15)"
      ]
     },
     "execution_count": 6,
     "metadata": {},
     "output_type": "execute_result"
    }
   ],
   "source": [
    "df.shape"
   ]
  },
  {
   "cell_type": "code",
   "execution_count": 7,
   "metadata": {},
   "outputs": [
    {
     "data": {
      "text/plain": [
       "RankSeason      80.194805\n",
       "RankPlayoffs    80.194805\n",
       "OOBP            65.909091\n",
       "OSLG            65.909091\n",
       "dtype: float64"
      ]
     },
     "execution_count": 7,
     "metadata": {},
     "output_type": "execute_result"
    }
   ],
   "source": [
    "df.isnull().sum()[df.isnull().sum()>0]/df.shape[0]*100"
   ]
  },
  {
   "cell_type": "code",
   "execution_count": 8,
   "metadata": {},
   "outputs": [
    {
     "data": {
      "image/png": "[encoded data removed]",
      "text/plain": [
       "<Figure size 432x288 with 1 Axes>"
      ]
     },
     "metadata": {
      "needs_background": "light"
     },
     "output_type": "display_data"
    }
   ],
   "source": [
    "df['G'].hist()\n",
    "plt.show()"
   ]
  },
  {
   "cell_type": "code",
   "execution_count": 9,
   "metadata": {},
   "outputs": [
    {
     "data": {
      "text/html": [
       "<div>\n",
       "<style scoped>\n",
       "    .dataframe tbody tr th:only-of-type {\n",
       "        vertical-align: middle;\n",
       "    }\n",
       "\n",
       "    .dataframe tbody tr th {\n",
       "        vertical-align: top;\n",
       "    }\n",
       "\n",
       "    .dataframe thead th {\n",
       "        text-align: right;\n",
       "    }\n",
       "</style>\n",
       "<table border=\"1\" class=\"dataframe\">\n",
       "  <thead>\n",
       "    <tr style=\"text-align: right;\">\n",
       "      <th></th>\n",
       "      <th>Year</th>\n",
       "      <th>RS</th>\n",
       "      <th>RA</th>\n",
       "      <th>W</th>\n",
       "      <th>OBP</th>\n",
       "      <th>SLG</th>\n",
       "      <th>BA</th>\n",
       "      <th>Playoffs</th>\n",
       "      <th>RankSeason</th>\n",
       "      <th>RankPlayoffs</th>\n",
       "      <th>G</th>\n",
       "      <th>OOBP</th>\n",
       "      <th>OSLG</th>\n",
       "    </tr>\n",
       "  </thead>\n",
       "  <tbody>\n",
       "    <tr>\n",
       "      <td>Year</td>\n",
       "      <td>1.000000</td>\n",
       "      <td>0.418978</td>\n",
       "      <td>0.412020</td>\n",
       "      <td>0.004138</td>\n",
       "      <td>0.374354</td>\n",
       "      <td>0.536037</td>\n",
       "      <td>0.349397</td>\n",
       "      <td>0.145779</td>\n",
       "      <td>0.385219</td>\n",
       "      <td>0.443967</td>\n",
       "      <td>0.009287</td>\n",
       "      <td>-0.371869</td>\n",
       "      <td>-0.345667</td>\n",
       "    </tr>\n",
       "    <tr>\n",
       "      <td>RS</td>\n",
       "      <td>0.418978</td>\n",
       "      <td>1.000000</td>\n",
       "      <td>0.380139</td>\n",
       "      <td>0.511745</td>\n",
       "      <td>0.900492</td>\n",
       "      <td>0.918740</td>\n",
       "      <td>0.827000</td>\n",
       "      <td>0.386628</td>\n",
       "      <td>-0.027687</td>\n",
       "      <td>0.210963</td>\n",
       "      <td>0.075195</td>\n",
       "      <td>0.133981</td>\n",
       "      <td>0.193426</td>\n",
       "    </tr>\n",
       "    <tr>\n",
       "      <td>RA</td>\n",
       "      <td>0.412020</td>\n",
       "      <td>0.380139</td>\n",
       "      <td>1.000000</td>\n",
       "      <td>-0.532394</td>\n",
       "      <td>0.326360</td>\n",
       "      <td>0.436527</td>\n",
       "      <td>0.330764</td>\n",
       "      <td>-0.261477</td>\n",
       "      <td>0.399141</td>\n",
       "      <td>0.315128</td>\n",
       "      <td>-0.023369</td>\n",
       "      <td>0.910344</td>\n",
       "      <td>0.909319</td>\n",
       "    </tr>\n",
       "    <tr>\n",
       "      <td>W</td>\n",
       "      <td>0.004138</td>\n",
       "      <td>0.511745</td>\n",
       "      <td>-0.532394</td>\n",
       "      <td>1.000000</td>\n",
       "      <td>0.481836</td>\n",
       "      <td>0.401496</td>\n",
       "      <td>0.408716</td>\n",
       "      <td>0.616757</td>\n",
       "      <td>-0.755098</td>\n",
       "      <td>-0.198960</td>\n",
       "      <td>0.105309</td>\n",
       "      <td>-0.634315</td>\n",
       "      <td>-0.568490</td>\n",
       "    </tr>\n",
       "    <tr>\n",
       "      <td>OBP</td>\n",
       "      <td>0.374354</td>\n",
       "      <td>0.900492</td>\n",
       "      <td>0.326360</td>\n",
       "      <td>0.481836</td>\n",
       "      <td>1.000000</td>\n",
       "      <td>0.790910</td>\n",
       "      <td>0.851958</td>\n",
       "      <td>0.363890</td>\n",
       "      <td>0.001612</td>\n",
       "      <td>0.175349</td>\n",
       "      <td>0.016563</td>\n",
       "      <td>0.120349</td>\n",
       "      <td>0.153372</td>\n",
       "    </tr>\n",
       "    <tr>\n",
       "      <td>SLG</td>\n",
       "      <td>0.536037</td>\n",
       "      <td>0.918740</td>\n",
       "      <td>0.436527</td>\n",
       "      <td>0.401496</td>\n",
       "      <td>0.790910</td>\n",
       "      <td>1.000000</td>\n",
       "      <td>0.790481</td>\n",
       "      <td>0.324713</td>\n",
       "      <td>0.126663</td>\n",
       "      <td>0.271893</td>\n",
       "      <td>0.036770</td>\n",
       "      <td>0.143861</td>\n",
       "      <td>0.210423</td>\n",
       "    </tr>\n",
       "    <tr>\n",
       "      <td>BA</td>\n",
       "      <td>0.349397</td>\n",
       "      <td>0.827000</td>\n",
       "      <td>0.330764</td>\n",
       "      <td>0.408716</td>\n",
       "      <td>0.851958</td>\n",
       "      <td>0.790481</td>\n",
       "      <td>1.000000</td>\n",
       "      <td>0.290217</td>\n",
       "      <td>0.035452</td>\n",
       "      <td>0.092684</td>\n",
       "      <td>0.019886</td>\n",
       "      <td>0.187108</td>\n",
       "      <td>0.227808</td>\n",
       "    </tr>\n",
       "    <tr>\n",
       "      <td>Playoffs</td>\n",
       "      <td>0.145779</td>\n",
       "      <td>0.386628</td>\n",
       "      <td>-0.261477</td>\n",
       "      <td>0.616757</td>\n",
       "      <td>0.363890</td>\n",
       "      <td>0.324713</td>\n",
       "      <td>0.290217</td>\n",
       "      <td>1.000000</td>\n",
       "      <td>NaN</td>\n",
       "      <td>NaN</td>\n",
       "      <td>0.022208</td>\n",
       "      <td>-0.433572</td>\n",
       "      <td>-0.366744</td>\n",
       "    </tr>\n",
       "    <tr>\n",
       "      <td>RankSeason</td>\n",
       "      <td>0.385219</td>\n",
       "      <td>-0.027687</td>\n",
       "      <td>0.399141</td>\n",
       "      <td>-0.755098</td>\n",
       "      <td>0.001612</td>\n",
       "      <td>0.126663</td>\n",
       "      <td>0.035452</td>\n",
       "      <td>NaN</td>\n",
       "      <td>1.000000</td>\n",
       "      <td>0.266906</td>\n",
       "      <td>0.069222</td>\n",
       "      <td>0.097731</td>\n",
       "      <td>0.050111</td>\n",
       "    </tr>\n",
       "    <tr>\n",
       "      <td>RankPlayoffs</td>\n",
       "      <td>0.443967</td>\n",
       "      <td>0.210963</td>\n",
       "      <td>0.315128</td>\n",
       "      <td>-0.198960</td>\n",
       "      <td>0.175349</td>\n",
       "      <td>0.271893</td>\n",
       "      <td>0.092684</td>\n",
       "      <td>NaN</td>\n",
       "      <td>0.266906</td>\n",
       "      <td>1.000000</td>\n",
       "      <td>0.007820</td>\n",
       "      <td>0.065808</td>\n",
       "      <td>0.087089</td>\n",
       "    </tr>\n",
       "    <tr>\n",
       "      <td>G</td>\n",
       "      <td>0.009287</td>\n",
       "      <td>0.075195</td>\n",
       "      <td>-0.023369</td>\n",
       "      <td>0.105309</td>\n",
       "      <td>0.016563</td>\n",
       "      <td>0.036770</td>\n",
       "      <td>0.019886</td>\n",
       "      <td>0.022208</td>\n",
       "      <td>0.069222</td>\n",
       "      <td>0.007820</td>\n",
       "      <td>1.000000</td>\n",
       "      <td>-0.077055</td>\n",
       "      <td>-0.004188</td>\n",
       "    </tr>\n",
       "    <tr>\n",
       "      <td>OOBP</td>\n",
       "      <td>-0.371869</td>\n",
       "      <td>0.133981</td>\n",
       "      <td>0.910344</td>\n",
       "      <td>-0.634315</td>\n",
       "      <td>0.120349</td>\n",
       "      <td>0.143861</td>\n",
       "      <td>0.187108</td>\n",
       "      <td>-0.433572</td>\n",
       "      <td>0.097731</td>\n",
       "      <td>0.065808</td>\n",
       "      <td>-0.077055</td>\n",
       "      <td>1.000000</td>\n",
       "      <td>0.830902</td>\n",
       "    </tr>\n",
       "    <tr>\n",
       "      <td>OSLG</td>\n",
       "      <td>-0.345667</td>\n",
       "      <td>0.193426</td>\n",
       "      <td>0.909319</td>\n",
       "      <td>-0.568490</td>\n",
       "      <td>0.153372</td>\n",
       "      <td>0.210423</td>\n",
       "      <td>0.227808</td>\n",
       "      <td>-0.366744</td>\n",
       "      <td>0.050111</td>\n",
       "      <td>0.087089</td>\n",
       "      <td>-0.004188</td>\n",
       "      <td>0.830902</td>\n",
       "      <td>1.000000</td>\n",
       "    </tr>\n",
       "  </tbody>\n",
       "</table>\n",
       "</div>"
      ],
      "text/plain": [
       "                  Year        RS        RA         W       OBP       SLG  \\\n",
       "Year          1.000000  0.418978  0.412020  0.004138  0.374354  0.536037   \n",
       "RS            0.418978  1.000000  0.380139  0.511745  0.900492  0.918740   \n",
       "RA            0.412020  0.380139  1.000000 -0.532394  0.326360  0.436527   \n",
       "W             0.004138  0.511745 -0.532394  1.000000  0.481836  0.401496   \n",
       "OBP           0.374354  0.900492  0.326360  0.481836  1.000000  0.790910   \n",
       "SLG           0.536037  0.918740  0.436527  0.401496  0.790910  1.000000   \n",
       "BA            0.349397  0.827000  0.330764  0.408716  0.851958  0.790481   \n",
       "Playoffs      0.145779  0.386628 -0.261477  0.616757  0.363890  0.324713   \n",
       "RankSeason    0.385219 -0.027687  0.399141 -0.755098  0.001612  0.126663   \n",
       "RankPlayoffs  0.443967  0.210963  0.315128 -0.198960  0.175349  0.271893   \n",
       "G             0.009287  0.075195 -0.023369  0.105309  0.016563  0.036770   \n",
       "OOBP         -0.371869  0.133981  0.910344 -0.634315  0.120349  0.143861   \n",
       "OSLG         -0.345667  0.193426  0.909319 -0.568490  0.153372  0.210423   \n",
       "\n",
       "                    BA  Playoffs  RankSeason  RankPlayoffs         G  \\\n",
       "Year          0.349397  0.145779    0.385219      0.443967  0.009287   \n",
       "RS            0.827000  0.386628   -0.027687      0.210963  0.075195   \n",
       "RA            0.330764 -0.261477    0.399141      0.315128 -0.023369   \n",
       "W             0.408716  0.616757   -0.755098     -0.198960  0.105309   \n",
       "OBP           0.851958  0.363890    0.001612      0.175349  0.016563   \n",
       "SLG           0.790481  0.324713    0.126663      0.271893  0.036770   \n",
       "BA            1.000000  0.290217    0.035452      0.092684  0.019886   \n",
       "Playoffs      0.290217  1.000000         NaN           NaN  0.022208   \n",
       "RankSeason    0.035452       NaN    1.000000      0.266906  0.069222   \n",
       "RankPlayoffs  0.092684       NaN    0.266906      1.000000  0.007820   \n",
       "G             0.019886  0.022208    0.069222      0.007820  1.000000   \n",
       "OOBP          0.187108 -0.433572    0.097731      0.065808 -0.077055   \n",
       "OSLG          0.227808 -0.366744    0.050111      0.087089 -0.004188   \n",
       "\n",
       "                  OOBP      OSLG  \n",
       "Year         -0.371869 -0.345667  \n",
       "RS            0.133981  0.193426  \n",
       "RA            0.910344  0.909319  \n",
       "W            -0.634315 -0.568490  \n",
       "OBP           0.120349  0.153372  \n",
       "SLG           0.143861  0.210423  \n",
       "BA            0.187108  0.227808  \n",
       "Playoffs     -0.433572 -0.366744  \n",
       "RankSeason    0.097731  0.050111  \n",
       "RankPlayoffs  0.065808  0.087089  \n",
       "G            -0.077055 -0.004188  \n",
       "OOBP          1.000000  0.830902  \n",
       "OSLG          0.830902  1.000000  "
      ]
     },
     "execution_count": 9,
     "metadata": {},
     "output_type": "execute_result"
    }
   ],
   "source": [
    "df.corr()"
   ]
  },
  {
   "cell_type": "code",
   "execution_count": 10,
   "metadata": {},
   "outputs": [
    {
     "data": {
      "text/html": [
       "<div>\n",
       "<style scoped>\n",
       "    .dataframe tbody tr th:only-of-type {\n",
       "        vertical-align: middle;\n",
       "    }\n",
       "\n",
       "    .dataframe tbody tr th {\n",
       "        vertical-align: top;\n",
       "    }\n",
       "\n",
       "    .dataframe thead th {\n",
       "        text-align: right;\n",
       "    }\n",
       "</style>\n",
       "<table border=\"1\" class=\"dataframe\">\n",
       "  <thead>\n",
       "    <tr style=\"text-align: right;\">\n",
       "      <th></th>\n",
       "      <th>Team</th>\n",
       "      <th>League</th>\n",
       "      <th>Year</th>\n",
       "      <th>RS</th>\n",
       "      <th>RA</th>\n",
       "      <th>W</th>\n",
       "      <th>OBP</th>\n",
       "      <th>SLG</th>\n",
       "      <th>BA</th>\n",
       "      <th>Playoffs</th>\n",
       "      <th>RankSeason</th>\n",
       "      <th>RankPlayoffs</th>\n",
       "      <th>G</th>\n",
       "      <th>OOBP</th>\n",
       "      <th>OSLG</th>\n",
       "      <th>RD</th>\n",
       "    </tr>\n",
       "  </thead>\n",
       "  <tbody>\n",
       "    <tr>\n",
       "      <td>0</td>\n",
       "      <td>ARI</td>\n",
       "      <td>NL</td>\n",
       "      <td>2012</td>\n",
       "      <td>734</td>\n",
       "      <td>688</td>\n",
       "      <td>81</td>\n",
       "      <td>0.328</td>\n",
       "      <td>0.418</td>\n",
       "      <td>0.259</td>\n",
       "      <td>0</td>\n",
       "      <td>NaN</td>\n",
       "      <td>NaN</td>\n",
       "      <td>162</td>\n",
       "      <td>0.317</td>\n",
       "      <td>0.415</td>\n",
       "      <td>46</td>\n",
       "    </tr>\n",
       "    <tr>\n",
       "      <td>1</td>\n",
       "      <td>ATL</td>\n",
       "      <td>NL</td>\n",
       "      <td>2012</td>\n",
       "      <td>700</td>\n",
       "      <td>600</td>\n",
       "      <td>94</td>\n",
       "      <td>0.320</td>\n",
       "      <td>0.389</td>\n",
       "      <td>0.247</td>\n",
       "      <td>1</td>\n",
       "      <td>4.0</td>\n",
       "      <td>5.0</td>\n",
       "      <td>162</td>\n",
       "      <td>0.306</td>\n",
       "      <td>0.378</td>\n",
       "      <td>100</td>\n",
       "    </tr>\n",
       "    <tr>\n",
       "      <td>2</td>\n",
       "      <td>BAL</td>\n",
       "      <td>AL</td>\n",
       "      <td>2012</td>\n",
       "      <td>712</td>\n",
       "      <td>705</td>\n",
       "      <td>93</td>\n",
       "      <td>0.311</td>\n",
       "      <td>0.417</td>\n",
       "      <td>0.247</td>\n",
       "      <td>1</td>\n",
       "      <td>5.0</td>\n",
       "      <td>4.0</td>\n",
       "      <td>162</td>\n",
       "      <td>0.315</td>\n",
       "      <td>0.403</td>\n",
       "      <td>7</td>\n",
       "    </tr>\n",
       "    <tr>\n",
       "      <td>3</td>\n",
       "      <td>BOS</td>\n",
       "      <td>AL</td>\n",
       "      <td>2012</td>\n",
       "      <td>734</td>\n",
       "      <td>806</td>\n",
       "      <td>69</td>\n",
       "      <td>0.315</td>\n",
       "      <td>0.415</td>\n",
       "      <td>0.260</td>\n",
       "      <td>0</td>\n",
       "      <td>NaN</td>\n",
       "      <td>NaN</td>\n",
       "      <td>162</td>\n",
       "      <td>0.331</td>\n",
       "      <td>0.428</td>\n",
       "      <td>-72</td>\n",
       "    </tr>\n",
       "    <tr>\n",
       "      <td>4</td>\n",
       "      <td>CHC</td>\n",
       "      <td>NL</td>\n",
       "      <td>2012</td>\n",
       "      <td>613</td>\n",
       "      <td>759</td>\n",
       "      <td>61</td>\n",
       "      <td>0.302</td>\n",
       "      <td>0.378</td>\n",
       "      <td>0.240</td>\n",
       "      <td>0</td>\n",
       "      <td>NaN</td>\n",
       "      <td>NaN</td>\n",
       "      <td>162</td>\n",
       "      <td>0.335</td>\n",
       "      <td>0.424</td>\n",
       "      <td>-146</td>\n",
       "    </tr>\n",
       "  </tbody>\n",
       "</table>\n",
       "</div>"
      ],
      "text/plain": [
       "  Team League  Year   RS   RA   W    OBP    SLG     BA  Playoffs  RankSeason  \\\n",
       "0  ARI     NL  2012  734  688  81  0.328  0.418  0.259         0         NaN   \n",
       "1  ATL     NL  2012  700  600  94  0.320  0.389  0.247         1         4.0   \n",
       "2  BAL     AL  2012  712  705  93  0.311  0.417  0.247         1         5.0   \n",
       "3  BOS     AL  2012  734  806  69  0.315  0.415  0.260         0         NaN   \n",
       "4  CHC     NL  2012  613  759  61  0.302  0.378  0.240         0         NaN   \n",
       "\n",
       "   RankPlayoffs    G   OOBP   OSLG   RD  \n",
       "0           NaN  162  0.317  0.415   46  \n",
       "1           5.0  162  0.306  0.378  100  \n",
       "2           4.0  162  0.315  0.403    7  \n",
       "3           NaN  162  0.331  0.428  -72  \n",
       "4           NaN  162  0.335  0.424 -146  "
      ]
     },
     "execution_count": 10,
     "metadata": {},
     "output_type": "execute_result"
    }
   ],
   "source": [
    "df['RD'] = df['RS']-df['RA']\n",
    "df.head()"
   ]
  },
  {
   "cell_type": "code",
   "execution_count": 11,
   "metadata": {},
   "outputs": [
    {
     "data": {
      "text/plain": [
       "RankSeason     -0.027687\n",
       "G               0.075195\n",
       "OOBP            0.133981\n",
       "OSLG            0.193426\n",
       "RankPlayoffs    0.210963\n",
       "RA              0.380139\n",
       "Playoffs        0.386628\n",
       "Year            0.418978\n",
       "W               0.511745\n",
       "RD              0.546294\n",
       "BA              0.827000\n",
       "OBP             0.900492\n",
       "SLG             0.918740\n",
       "RS              1.000000\n",
       "Name: RS, dtype: float64"
      ]
     },
     "execution_count": 11,
     "metadata": {},
     "output_type": "execute_result"
    }
   ],
   "source": [
    "df.corr()['RS'].sort_values()"
   ]
  },
  {
   "cell_type": "markdown",
   "metadata": {},
   "source": [
    "We can see that the average Slugging Percentage and OnBase Percentage of the team has higher positive correlation w.r.t the Runs Scored than the overall Batting Average."
   ]
  },
  {
   "cell_type": "code",
   "execution_count": 12,
   "metadata": {},
   "outputs": [
    {
     "data": {
      "text/plain": [
       "RD             -0.567048\n",
       "W              -0.532394\n",
       "Playoffs       -0.261477\n",
       "G              -0.023369\n",
       "RankPlayoffs    0.315128\n",
       "OBP             0.326360\n",
       "BA              0.330764\n",
       "RS              0.380139\n",
       "RankSeason      0.399141\n",
       "Year            0.412020\n",
       "SLG             0.436527\n",
       "OSLG            0.909319\n",
       "OOBP            0.910344\n",
       "RA              1.000000\n",
       "Name: RA, dtype: float64"
      ]
     },
     "execution_count": 12,
     "metadata": {},
     "output_type": "execute_result"
    }
   ],
   "source": [
    "df.corr()['RA'].sort_values()"
   ]
  },
  {
   "cell_type": "markdown",
   "metadata": {},
   "source": [
    "We can see that the Runs Allowed is also higjly positve correlated with Opponent team's OnBase Percentage and Opponent team's Slugging Percentage. "
   ]
  },
  {
   "cell_type": "code",
   "execution_count": 13,
   "metadata": {},
   "outputs": [],
   "source": [
    "df1 = df[df['Year']<2002]"
   ]
  },
  {
   "cell_type": "code",
   "execution_count": 14,
   "metadata": {},
   "outputs": [],
   "source": [
    "from scipy.stats import levene, shapiro"
   ]
  },
  {
   "cell_type": "code",
   "execution_count": 15,
   "metadata": {},
   "outputs": [
    {
     "name": "stderr",
     "output_type": "stream",
     "text": [
      "C:\\ProgramData\\Anaconda3\\lib\\site-packages\\numpy\\lib\\function_base.py:3405: RuntimeWarning: Invalid value encountered in median\n",
      "  r = func(a, **kwargs)\n",
      "C:\\ProgramData\\Anaconda3\\lib\\site-packages\\scipy\\stats\\_distn_infrastructure.py:901: RuntimeWarning: invalid value encountered in greater\n",
      "  return (a < x) & (x < b)\n",
      "C:\\ProgramData\\Anaconda3\\lib\\site-packages\\scipy\\stats\\_distn_infrastructure.py:901: RuntimeWarning: invalid value encountered in less\n",
      "  return (a < x) & (x < b)\n",
      "C:\\ProgramData\\Anaconda3\\lib\\site-packages\\scipy\\stats\\_distn_infrastructure.py:1892: RuntimeWarning: invalid value encountered in less_equal\n",
      "  cond2 = cond0 & (x <= _a)\n"
     ]
    },
    {
     "data": {
      "text/plain": [
       "LeveneResult(statistic=nan, pvalue=nan)"
      ]
     },
     "execution_count": 15,
     "metadata": {},
     "output_type": "execute_result"
    }
   ],
   "source": [
    "levene(df1['RA'],df1['OOBP'])"
   ]
  },
  {
   "cell_type": "code",
   "execution_count": 16,
   "metadata": {},
   "outputs": [
    {
     "data": {
      "text/html": [
       "<div>\n",
       "<style scoped>\n",
       "    .dataframe tbody tr th:only-of-type {\n",
       "        vertical-align: middle;\n",
       "    }\n",
       "\n",
       "    .dataframe tbody tr th {\n",
       "        vertical-align: top;\n",
       "    }\n",
       "\n",
       "    .dataframe thead th {\n",
       "        text-align: right;\n",
       "    }\n",
       "</style>\n",
       "<table border=\"1\" class=\"dataframe\">\n",
       "  <thead>\n",
       "    <tr style=\"text-align: right;\">\n",
       "      <th></th>\n",
       "      <th>Year</th>\n",
       "      <th>RS</th>\n",
       "      <th>RA</th>\n",
       "      <th>W</th>\n",
       "      <th>OBP</th>\n",
       "      <th>SLG</th>\n",
       "      <th>BA</th>\n",
       "      <th>Playoffs</th>\n",
       "      <th>RankSeason</th>\n",
       "      <th>RankPlayoffs</th>\n",
       "      <th>G</th>\n",
       "      <th>OOBP</th>\n",
       "      <th>OSLG</th>\n",
       "      <th>RD</th>\n",
       "    </tr>\n",
       "  </thead>\n",
       "  <tbody>\n",
       "    <tr>\n",
       "      <td>Year</td>\n",
       "      <td>1.000000e+00</td>\n",
       "      <td>0.485502</td>\n",
       "      <td>0.483072</td>\n",
       "      <td>0.002756</td>\n",
       "      <td>0.474799</td>\n",
       "      <td>0.517828</td>\n",
       "      <td>0.438729</td>\n",
       "      <td>0.113014</td>\n",
       "      <td>0.415645</td>\n",
       "      <td>0.426403</td>\n",
       "      <td>-0.027085</td>\n",
       "      <td>-0.335533</td>\n",
       "      <td>-0.122668</td>\n",
       "      <td>-4.316055e-19</td>\n",
       "    </tr>\n",
       "    <tr>\n",
       "      <td>RS</td>\n",
       "      <td>4.855023e-01</td>\n",
       "      <td>1.000000</td>\n",
       "      <td>0.415014</td>\n",
       "      <td>0.507382</td>\n",
       "      <td>0.904909</td>\n",
       "      <td>0.926384</td>\n",
       "      <td>0.831625</td>\n",
       "      <td>0.371631</td>\n",
       "      <td>0.135743</td>\n",
       "      <td>0.323624</td>\n",
       "      <td>0.056206</td>\n",
       "      <td>0.091057</td>\n",
       "      <td>0.039787</td>\n",
       "      <td>5.375395e-01</td>\n",
       "    </tr>\n",
       "    <tr>\n",
       "      <td>RA</td>\n",
       "      <td>4.830717e-01</td>\n",
       "      <td>0.415014</td>\n",
       "      <td>1.000000</td>\n",
       "      <td>-0.507772</td>\n",
       "      <td>0.367105</td>\n",
       "      <td>0.459514</td>\n",
       "      <td>0.350411</td>\n",
       "      <td>-0.241213</td>\n",
       "      <td>0.539387</td>\n",
       "      <td>0.382416</td>\n",
       "      <td>-0.037402</td>\n",
       "      <td>0.909908</td>\n",
       "      <td>0.895110</td>\n",
       "      <td>-5.441052e-01</td>\n",
       "    </tr>\n",
       "    <tr>\n",
       "      <td>W</td>\n",
       "      <td>2.755645e-03</td>\n",
       "      <td>0.507382</td>\n",
       "      <td>-0.507772</td>\n",
       "      <td>1.000000</td>\n",
       "      <td>0.474080</td>\n",
       "      <td>0.405972</td>\n",
       "      <td>0.416391</td>\n",
       "      <td>0.588978</td>\n",
       "      <td>-0.747960</td>\n",
       "      <td>-0.235038</td>\n",
       "      <td>0.108128</td>\n",
       "      <td>-0.633657</td>\n",
       "      <td>-0.646920</td>\n",
       "      <td>9.385150e-01</td>\n",
       "    </tr>\n",
       "    <tr>\n",
       "      <td>OBP</td>\n",
       "      <td>4.747989e-01</td>\n",
       "      <td>0.904909</td>\n",
       "      <td>0.367105</td>\n",
       "      <td>0.474080</td>\n",
       "      <td>1.000000</td>\n",
       "      <td>0.806154</td>\n",
       "      <td>0.854055</td>\n",
       "      <td>0.345530</td>\n",
       "      <td>0.146153</td>\n",
       "      <td>0.300446</td>\n",
       "      <td>-0.003827</td>\n",
       "      <td>0.052899</td>\n",
       "      <td>-0.008316</td>\n",
       "      <td>4.942505e-01</td>\n",
       "    </tr>\n",
       "    <tr>\n",
       "      <td>SLG</td>\n",
       "      <td>5.178276e-01</td>\n",
       "      <td>0.926384</td>\n",
       "      <td>0.459514</td>\n",
       "      <td>0.405972</td>\n",
       "      <td>0.806154</td>\n",
       "      <td>1.000000</td>\n",
       "      <td>0.814068</td>\n",
       "      <td>0.300191</td>\n",
       "      <td>0.217315</td>\n",
       "      <td>0.341013</td>\n",
       "      <td>0.012873</td>\n",
       "      <td>0.101632</td>\n",
       "      <td>0.080376</td>\n",
       "      <td>4.284077e-01</td>\n",
       "    </tr>\n",
       "    <tr>\n",
       "      <td>BA</td>\n",
       "      <td>4.387291e-01</td>\n",
       "      <td>0.831625</td>\n",
       "      <td>0.350411</td>\n",
       "      <td>0.416391</td>\n",
       "      <td>0.854055</td>\n",
       "      <td>0.814068</td>\n",
       "      <td>1.000000</td>\n",
       "      <td>0.278772</td>\n",
       "      <td>0.156881</td>\n",
       "      <td>0.229791</td>\n",
       "      <td>-0.001805</td>\n",
       "      <td>0.219021</td>\n",
       "      <td>0.231918</td>\n",
       "      <td>4.421417e-01</td>\n",
       "    </tr>\n",
       "    <tr>\n",
       "      <td>Playoffs</td>\n",
       "      <td>1.130136e-01</td>\n",
       "      <td>0.371631</td>\n",
       "      <td>-0.241213</td>\n",
       "      <td>0.588978</td>\n",
       "      <td>0.345530</td>\n",
       "      <td>0.300191</td>\n",
       "      <td>0.278772</td>\n",
       "      <td>1.000000</td>\n",
       "      <td>NaN</td>\n",
       "      <td>NaN</td>\n",
       "      <td>0.009831</td>\n",
       "      <td>-0.495725</td>\n",
       "      <td>-0.510097</td>\n",
       "      <td>5.662745e-01</td>\n",
       "    </tr>\n",
       "    <tr>\n",
       "      <td>RankSeason</td>\n",
       "      <td>4.156449e-01</td>\n",
       "      <td>0.135743</td>\n",
       "      <td>0.539387</td>\n",
       "      <td>-0.747960</td>\n",
       "      <td>0.146153</td>\n",
       "      <td>0.217315</td>\n",
       "      <td>0.156881</td>\n",
       "      <td>NaN</td>\n",
       "      <td>1.000000</td>\n",
       "      <td>0.352961</td>\n",
       "      <td>0.052870</td>\n",
       "      <td>0.141905</td>\n",
       "      <td>0.235886</td>\n",
       "      <td>-5.703690e-01</td>\n",
       "    </tr>\n",
       "    <tr>\n",
       "      <td>RankPlayoffs</td>\n",
       "      <td>4.264030e-01</td>\n",
       "      <td>0.323624</td>\n",
       "      <td>0.382416</td>\n",
       "      <td>-0.235038</td>\n",
       "      <td>0.300446</td>\n",
       "      <td>0.341013</td>\n",
       "      <td>0.229791</td>\n",
       "      <td>NaN</td>\n",
       "      <td>0.352961</td>\n",
       "      <td>1.000000</td>\n",
       "      <td>0.012394</td>\n",
       "      <td>0.299376</td>\n",
       "      <td>0.318576</td>\n",
       "      <td>-7.677988e-02</td>\n",
       "    </tr>\n",
       "    <tr>\n",
       "      <td>G</td>\n",
       "      <td>-2.708490e-02</td>\n",
       "      <td>0.056206</td>\n",
       "      <td>-0.037402</td>\n",
       "      <td>0.108128</td>\n",
       "      <td>-0.003827</td>\n",
       "      <td>0.012873</td>\n",
       "      <td>-0.001805</td>\n",
       "      <td>0.009831</td>\n",
       "      <td>0.052870</td>\n",
       "      <td>0.012394</td>\n",
       "      <td>1.000000</td>\n",
       "      <td>-0.100545</td>\n",
       "      <td>-0.045432</td>\n",
       "      <td>8.649718e-02</td>\n",
       "    </tr>\n",
       "    <tr>\n",
       "      <td>OOBP</td>\n",
       "      <td>-3.355334e-01</td>\n",
       "      <td>0.091057</td>\n",
       "      <td>0.909908</td>\n",
       "      <td>-0.633657</td>\n",
       "      <td>0.052899</td>\n",
       "      <td>0.101632</td>\n",
       "      <td>0.219021</td>\n",
       "      <td>-0.495725</td>\n",
       "      <td>0.141905</td>\n",
       "      <td>0.299376</td>\n",
       "      <td>-0.100545</td>\n",
       "      <td>1.000000</td>\n",
       "      <td>0.796526</td>\n",
       "      <td>-6.040766e-01</td>\n",
       "    </tr>\n",
       "    <tr>\n",
       "      <td>OSLG</td>\n",
       "      <td>-1.226680e-01</td>\n",
       "      <td>0.039787</td>\n",
       "      <td>0.895110</td>\n",
       "      <td>-0.646920</td>\n",
       "      <td>-0.008316</td>\n",
       "      <td>0.080376</td>\n",
       "      <td>0.231918</td>\n",
       "      <td>-0.510097</td>\n",
       "      <td>0.235886</td>\n",
       "      <td>0.318576</td>\n",
       "      <td>-0.045432</td>\n",
       "      <td>0.796526</td>\n",
       "      <td>1.000000</td>\n",
       "      <td>-6.302315e-01</td>\n",
       "    </tr>\n",
       "    <tr>\n",
       "      <td>RD</td>\n",
       "      <td>-4.316055e-19</td>\n",
       "      <td>0.537539</td>\n",
       "      <td>-0.544105</td>\n",
       "      <td>0.938515</td>\n",
       "      <td>0.494251</td>\n",
       "      <td>0.428408</td>\n",
       "      <td>0.442142</td>\n",
       "      <td>0.566274</td>\n",
       "      <td>-0.570369</td>\n",
       "      <td>-0.076780</td>\n",
       "      <td>0.086497</td>\n",
       "      <td>-0.604077</td>\n",
       "      <td>-0.630231</td>\n",
       "      <td>1.000000e+00</td>\n",
       "    </tr>\n",
       "  </tbody>\n",
       "</table>\n",
       "</div>"
      ],
      "text/plain": [
       "                      Year        RS        RA         W       OBP       SLG  \\\n",
       "Year          1.000000e+00  0.485502  0.483072  0.002756  0.474799  0.517828   \n",
       "RS            4.855023e-01  1.000000  0.415014  0.507382  0.904909  0.926384   \n",
       "RA            4.830717e-01  0.415014  1.000000 -0.507772  0.367105  0.459514   \n",
       "W             2.755645e-03  0.507382 -0.507772  1.000000  0.474080  0.405972   \n",
       "OBP           4.747989e-01  0.904909  0.367105  0.474080  1.000000  0.806154   \n",
       "SLG           5.178276e-01  0.926384  0.459514  0.405972  0.806154  1.000000   \n",
       "BA            4.387291e-01  0.831625  0.350411  0.416391  0.854055  0.814068   \n",
       "Playoffs      1.130136e-01  0.371631 -0.241213  0.588978  0.345530  0.300191   \n",
       "RankSeason    4.156449e-01  0.135743  0.539387 -0.747960  0.146153  0.217315   \n",
       "RankPlayoffs  4.264030e-01  0.323624  0.382416 -0.235038  0.300446  0.341013   \n",
       "G            -2.708490e-02  0.056206 -0.037402  0.108128 -0.003827  0.012873   \n",
       "OOBP         -3.355334e-01  0.091057  0.909908 -0.633657  0.052899  0.101632   \n",
       "OSLG         -1.226680e-01  0.039787  0.895110 -0.646920 -0.008316  0.080376   \n",
       "RD           -4.316055e-19  0.537539 -0.544105  0.938515  0.494251  0.428408   \n",
       "\n",
       "                    BA  Playoffs  RankSeason  RankPlayoffs         G  \\\n",
       "Year          0.438729  0.113014    0.415645      0.426403 -0.027085   \n",
       "RS            0.831625  0.371631    0.135743      0.323624  0.056206   \n",
       "RA            0.350411 -0.241213    0.539387      0.382416 -0.037402   \n",
       "W             0.416391  0.588978   -0.747960     -0.235038  0.108128   \n",
       "OBP           0.854055  0.345530    0.146153      0.300446 -0.003827   \n",
       "SLG           0.814068  0.300191    0.217315      0.341013  0.012873   \n",
       "BA            1.000000  0.278772    0.156881      0.229791 -0.001805   \n",
       "Playoffs      0.278772  1.000000         NaN           NaN  0.009831   \n",
       "RankSeason    0.156881       NaN    1.000000      0.352961  0.052870   \n",
       "RankPlayoffs  0.229791       NaN    0.352961      1.000000  0.012394   \n",
       "G            -0.001805  0.009831    0.052870      0.012394  1.000000   \n",
       "OOBP          0.219021 -0.495725    0.141905      0.299376 -0.100545   \n",
       "OSLG          0.231918 -0.510097    0.235886      0.318576 -0.045432   \n",
       "RD            0.442142  0.566274   -0.570369     -0.076780  0.086497   \n",
       "\n",
       "                  OOBP      OSLG            RD  \n",
       "Year         -0.335533 -0.122668 -4.316055e-19  \n",
       "RS            0.091057  0.039787  5.375395e-01  \n",
       "RA            0.909908  0.895110 -5.441052e-01  \n",
       "W            -0.633657 -0.646920  9.385150e-01  \n",
       "OBP           0.052899 -0.008316  4.942505e-01  \n",
       "SLG           0.101632  0.080376  4.284077e-01  \n",
       "BA            0.219021  0.231918  4.421417e-01  \n",
       "Playoffs     -0.495725 -0.510097  5.662745e-01  \n",
       "RankSeason    0.141905  0.235886 -5.703690e-01  \n",
       "RankPlayoffs  0.299376  0.318576 -7.677988e-02  \n",
       "G            -0.100545 -0.045432  8.649718e-02  \n",
       "OOBP          1.000000  0.796526 -6.040766e-01  \n",
       "OSLG          0.796526  1.000000 -6.302315e-01  \n",
       "RD           -0.604077 -0.630231  1.000000e+00  "
      ]
     },
     "execution_count": 16,
     "metadata": {},
     "output_type": "execute_result"
    }
   ],
   "source": [
    "df1.corr()"
   ]
  },
  {
   "cell_type": "code",
   "execution_count": 17,
   "metadata": {},
   "outputs": [
    {
     "data": {
      "image/png": "[encoded data removed]",
      "text/plain": [
       "<Figure size 432x288 with 1 Axes>"
      ]
     },
     "metadata": {
      "needs_background": "light"
     },
     "output_type": "display_data"
    },
    {
     "data": {
      "text/plain": [
       "(0.9978131651878357, 0.28730684518814087)"
      ]
     },
     "execution_count": 17,
     "metadata": {},
     "output_type": "execute_result"
    }
   ],
   "source": [
    "np.sqrt(df1['RS']).hist(bins = 100)\n",
    "plt.show()\n",
    "shapiro(np.sqrt(df1['RS']))"
   ]
  },
  {
   "cell_type": "code",
   "execution_count": 18,
   "metadata": {},
   "outputs": [
    {
     "name": "stderr",
     "output_type": "stream",
     "text": [
      "C:\\ProgramData\\Anaconda3\\lib\\site-packages\\ipykernel_launcher.py:1: SettingWithCopyWarning: \n",
      "A value is trying to be set on a copy of a slice from a DataFrame.\n",
      "Try using .loc[row_indexer,col_indexer] = value instead\n",
      "\n",
      "See the caveats in the documentation: http://pandas.pydata.org/pandas-docs/stable/user_guide/indexing.html#returning-a-view-versus-a-copy\n",
      "  \"\"\"Entry point for launching an IPython kernel.\n"
     ]
    }
   ],
   "source": [
    "df1['RS'] = np.sqrt(df1['RS'])"
   ]
  },
  {
   "cell_type": "code",
   "execution_count": 19,
   "metadata": {},
   "outputs": [
    {
     "data": {
      "image/png": "[encoded data removed]",
      "text/plain": [
       "<Figure size 432x288 with 1 Axes>"
      ]
     },
     "metadata": {
      "needs_background": "light"
     },
     "output_type": "display_data"
    },
    {
     "data": {
      "text/plain": [
       "(0.9990280270576477, 0.9248181581497192)"
      ]
     },
     "execution_count": 19,
     "metadata": {},
     "output_type": "execute_result"
    }
   ],
   "source": [
    "np.log(df1['RA']).hist(bins = 100)\n",
    "plt.show()\n",
    "shapiro(np.log(df1['RA']))"
   ]
  },
  {
   "cell_type": "code",
   "execution_count": 20,
   "metadata": {},
   "outputs": [
    {
     "name": "stderr",
     "output_type": "stream",
     "text": [
      "C:\\ProgramData\\Anaconda3\\lib\\site-packages\\ipykernel_launcher.py:1: SettingWithCopyWarning: \n",
      "A value is trying to be set on a copy of a slice from a DataFrame.\n",
      "Try using .loc[row_indexer,col_indexer] = value instead\n",
      "\n",
      "See the caveats in the documentation: http://pandas.pydata.org/pandas-docs/stable/user_guide/indexing.html#returning-a-view-versus-a-copy\n",
      "  \"\"\"Entry point for launching an IPython kernel.\n"
     ]
    }
   ],
   "source": [
    "df1['RA'] = np.log(df1['RA'])"
   ]
  },
  {
   "cell_type": "code",
   "execution_count": 21,
   "metadata": {},
   "outputs": [
    {
     "data": {
      "image/png": "[encoded data removed]",
      "text/plain": [
       "<Figure size 432x288 with 1 Axes>"
      ]
     },
     "metadata": {
      "needs_background": "light"
     },
     "output_type": "display_data"
    },
    {
     "data": {
      "text/plain": [
       "(0.9973276853561401, 0.14556486904621124)"
      ]
     },
     "execution_count": 21,
     "metadata": {},
     "output_type": "execute_result"
    }
   ],
   "source": [
    "df1['OBP'].hist(bins = 100)\n",
    "plt.show()\n",
    "shapiro(df1[\"OBP\"])"
   ]
  },
  {
   "cell_type": "markdown",
   "metadata": {},
   "source": [
    "PVal is higher than .05, BUll Hypothesis is Accepted. So the OBP is normally distributed. "
   ]
  },
  {
   "cell_type": "code",
   "execution_count": 22,
   "metadata": {},
   "outputs": [
    {
     "data": {
      "image/png": "[encoded data removed]",
      "text/plain": [
       "<Figure size 432x288 with 1 Axes>"
      ]
     },
     "metadata": {
      "needs_background": "light"
     },
     "output_type": "display_data"
    },
    {
     "data": {
      "text/plain": [
       "(0.9924986958503723, 0.0001585925492690876)"
      ]
     },
     "execution_count": 22,
     "metadata": {},
     "output_type": "execute_result"
    }
   ],
   "source": [
    "np.log(df1['SLG']).hist(bins = 100)\n",
    "plt.show()\n",
    "shapiro(df1['SLG'])"
   ]
  },
  {
   "cell_type": "code",
   "execution_count": 23,
   "metadata": {},
   "outputs": [
    {
     "data": {
      "text/plain": [
       "(0.9971961975097656, 0.12017291784286499)"
      ]
     },
     "execution_count": 23,
     "metadata": {},
     "output_type": "execute_result"
    }
   ],
   "source": [
    "shapiro(np.log(df1['SLG']))"
   ]
  },
  {
   "cell_type": "code",
   "execution_count": 24,
   "metadata": {},
   "outputs": [
    {
     "name": "stderr",
     "output_type": "stream",
     "text": [
      "C:\\ProgramData\\Anaconda3\\lib\\site-packages\\ipykernel_launcher.py:1: SettingWithCopyWarning: \n",
      "A value is trying to be set on a copy of a slice from a DataFrame.\n",
      "Try using .loc[row_indexer,col_indexer] = value instead\n",
      "\n",
      "See the caveats in the documentation: http://pandas.pydata.org/pandas-docs/stable/user_guide/indexing.html#returning-a-view-versus-a-copy\n",
      "  \"\"\"Entry point for launching an IPython kernel.\n"
     ]
    }
   ],
   "source": [
    "df1['SLG'] = np.log(df1['SLG'])"
   ]
  },
  {
   "cell_type": "code",
   "execution_count": 25,
   "metadata": {},
   "outputs": [
    {
     "data": {
      "text/plain": [
       "0    748\n",
       "1    154\n",
       "Name: Playoffs, dtype: int64"
      ]
     },
     "execution_count": 25,
     "metadata": {},
     "output_type": "execute_result"
    }
   ],
   "source": [
    "df1['Playoffs'].value_counts()"
   ]
  },
  {
   "cell_type": "code",
   "execution_count": 26,
   "metadata": {},
   "outputs": [],
   "source": [
    "df_playoff =  df1.groupby('Playoffs')"
   ]
  },
  {
   "cell_type": "code",
   "execution_count": 27,
   "metadata": {},
   "outputs": [],
   "source": [
    "df_playoff_0 = df_playoff.get_group(0)\n",
    "df_playoff_1 = df_playoff.get_group(1)"
   ]
  },
  {
   "cell_type": "code",
   "execution_count": 28,
   "metadata": {},
   "outputs": [
    {
     "data": {
      "image/png": "[encoded data removed]",
      "text/plain": [
       "<Figure size 720x432 with 1 Axes>"
      ]
     },
     "metadata": {
      "needs_background": "light"
     },
     "output_type": "display_data"
    }
   ],
   "source": [
    "plt.figure(figsize = (10,6))\n",
    "sns.scatterplot(df1['W'],df1['RS'], hue ='Playoffs', data = df1)\n",
    "plt.axvline(x=99)\n",
    "plt.xlabel('Wins')\n",
    "plt.ylabel('Runs Scored')\n",
    "plt.show()"
   ]
  },
  {
   "cell_type": "markdown",
   "metadata": {},
   "source": [
    "From the above plot we see that DePodesta’s estimate of 99 wins makes sense since there appears to be only 3 observations (red) who haven’t made it to the playoffs with ≥ 99 wins."
   ]
  },
  {
   "cell_type": "markdown",
   "metadata": {},
   "source": [
    "DePodesta also calculated that the A’s need to score atleast 814 runs and allow only 645 runs in order to make it to the postseason. That meant that the difference between runs scored and runs allowed needed to be approximately 169(RD). Let us look at the relationship between RD and Wins."
   ]
  },
  {
   "cell_type": "code",
   "execution_count": 29,
   "metadata": {},
   "outputs": [
    {
     "data": {
      "image/png": "[encoded data removed]",
      "text/plain": [
       "<Figure size 720x432 with 1 Axes>"
      ]
     },
     "metadata": {
      "needs_background": "light"
     },
     "output_type": "display_data"
    }
   ],
   "source": [
    "plt.figure(figsize = (10,6))\n",
    "sns.scatterplot(df1['RD'],df1['W'],color = 'green')\n",
    "slope, intercept = np.polyfit(df1['RD'],df1['W'],1)\n",
    "abline_values = [slope*i+intercept for i in df1['RD']]\n",
    "plt.plot(df1['RD'],abline_values,c = 'b')\n",
    "plt.axhline(y = 99)\n",
    "plt.axvline(x = 169)\n",
    "plt.xlabel('Run Difference')\n",
    "plt.ylabel('Wins')\n",
    "plt.title('Slope = %s'%(slope))\n",
    "\n",
    "plt.show()"
   ]
  },
  {
   "cell_type": "code",
   "execution_count": 30,
   "metadata": {},
   "outputs": [
    {
     "data": {
      "text/plain": [
       "array([[1.        , 0.93851498],\n",
       "       [0.93851498, 1.        ]])"
      ]
     },
     "execution_count": 30,
     "metadata": {},
     "output_type": "execute_result"
    }
   ],
   "source": [
    "np.corrcoef(df1['RD'],df1['W'])"
   ]
  },
  {
   "cell_type": "code",
   "execution_count": 31,
   "metadata": {},
   "outputs": [
    {
     "name": "stdout",
     "output_type": "stream",
     "text": [
      "<class 'pandas.core.frame.DataFrame'>\n",
      "Int64Index: 902 entries, 330 to 1231\n",
      "Data columns (total 16 columns):\n",
      "Team            902 non-null object\n",
      "League          902 non-null object\n",
      "Year            902 non-null int64\n",
      "RS              902 non-null float64\n",
      "RA              902 non-null float64\n",
      "W               902 non-null int64\n",
      "OBP             902 non-null float64\n",
      "SLG             902 non-null float64\n",
      "BA              902 non-null float64\n",
      "Playoffs        902 non-null int64\n",
      "RankSeason      154 non-null float64\n",
      "RankPlayoffs    154 non-null float64\n",
      "G               902 non-null int64\n",
      "OOBP            90 non-null float64\n",
      "OSLG            90 non-null float64\n",
      "RD              902 non-null int64\n",
      "dtypes: float64(9), int64(5), object(2)\n",
      "memory usage: 119.8+ KB\n"
     ]
    }
   ],
   "source": [
    "df1.info()"
   ]
  },
  {
   "cell_type": "code",
   "execution_count": 32,
   "metadata": {},
   "outputs": [
    {
     "data": {
      "text/plain": [
       "0.365"
      ]
     },
     "execution_count": 32,
     "metadata": {},
     "output_type": "execute_result"
    }
   ],
   "source": [
    "df1['OOBP'].dropna().sample().iloc[0]"
   ]
  },
  {
   "cell_type": "code",
   "execution_count": 33,
   "metadata": {},
   "outputs": [
    {
     "name": "stderr",
     "output_type": "stream",
     "text": [
      "C:\\ProgramData\\Anaconda3\\lib\\site-packages\\pandas\\core\\generic.py:6786: SettingWithCopyWarning: \n",
      "A value is trying to be set on a copy of a slice from a DataFrame\n",
      "\n",
      "See the caveats in the documentation: http://pandas.pydata.org/pandas-docs/stable/user_guide/indexing.html#returning-a-view-versus-a-copy\n",
      "  self._update_inplace(new_data)\n"
     ]
    }
   ],
   "source": [
    "df1['League'].replace({'AL':1,'NL':0}, inplace = True)"
   ]
  },
  {
   "cell_type": "code",
   "execution_count": 34,
   "metadata": {},
   "outputs": [],
   "source": [
    "from sklearn.impute import KNNImputer\n",
    "imputer = KNNImputer(n_neighbors = 5, weights = 'uniform')"
   ]
  },
  {
   "cell_type": "code",
   "execution_count": 35,
   "metadata": {},
   "outputs": [
    {
     "data": {
      "text/html": [
       "<div>\n",
       "<style scoped>\n",
       "    .dataframe tbody tr th:only-of-type {\n",
       "        vertical-align: middle;\n",
       "    }\n",
       "\n",
       "    .dataframe tbody tr th {\n",
       "        vertical-align: top;\n",
       "    }\n",
       "\n",
       "    .dataframe thead th {\n",
       "        text-align: right;\n",
       "    }\n",
       "</style>\n",
       "<table border=\"1\" class=\"dataframe\">\n",
       "  <thead>\n",
       "    <tr style=\"text-align: right;\">\n",
       "      <th></th>\n",
       "      <th>League</th>\n",
       "      <th>Year</th>\n",
       "      <th>RS</th>\n",
       "      <th>RA</th>\n",
       "      <th>W</th>\n",
       "      <th>OBP</th>\n",
       "      <th>SLG</th>\n",
       "      <th>BA</th>\n",
       "      <th>Playoffs</th>\n",
       "      <th>RankSeason</th>\n",
       "      <th>RankPlayoffs</th>\n",
       "      <th>G</th>\n",
       "      <th>OOBP</th>\n",
       "      <th>OSLG</th>\n",
       "      <th>RD</th>\n",
       "    </tr>\n",
       "  </thead>\n",
       "  <tbody>\n",
       "    <tr>\n",
       "      <td>330</td>\n",
       "      <td>1</td>\n",
       "      <td>2001</td>\n",
       "      <td>26.286879</td>\n",
       "      <td>6.593045</td>\n",
       "      <td>75</td>\n",
       "      <td>0.327</td>\n",
       "      <td>-0.903868</td>\n",
       "      <td>0.261</td>\n",
       "      <td>0</td>\n",
       "      <td>NaN</td>\n",
       "      <td>NaN</td>\n",
       "      <td>162</td>\n",
       "      <td>0.331</td>\n",
       "      <td>0.412</td>\n",
       "      <td>-39</td>\n",
       "    </tr>\n",
       "    <tr>\n",
       "      <td>331</td>\n",
       "      <td>0</td>\n",
       "      <td>2001</td>\n",
       "      <td>28.600699</td>\n",
       "      <td>6.517671</td>\n",
       "      <td>92</td>\n",
       "      <td>0.341</td>\n",
       "      <td>-0.816445</td>\n",
       "      <td>0.267</td>\n",
       "      <td>1</td>\n",
       "      <td>5.0</td>\n",
       "      <td>1.0</td>\n",
       "      <td>162</td>\n",
       "      <td>0.311</td>\n",
       "      <td>0.404</td>\n",
       "      <td>141</td>\n",
       "    </tr>\n",
       "    <tr>\n",
       "      <td>332</td>\n",
       "      <td>0</td>\n",
       "      <td>2001</td>\n",
       "      <td>27.000000</td>\n",
       "      <td>6.466145</td>\n",
       "      <td>88</td>\n",
       "      <td>0.324</td>\n",
       "      <td>-0.886732</td>\n",
       "      <td>0.260</td>\n",
       "      <td>1</td>\n",
       "      <td>7.0</td>\n",
       "      <td>3.0</td>\n",
       "      <td>162</td>\n",
       "      <td>0.314</td>\n",
       "      <td>0.384</td>\n",
       "      <td>86</td>\n",
       "    </tr>\n",
       "    <tr>\n",
       "      <td>333</td>\n",
       "      <td>1</td>\n",
       "      <td>2001</td>\n",
       "      <td>26.210685</td>\n",
       "      <td>6.720220</td>\n",
       "      <td>63</td>\n",
       "      <td>0.319</td>\n",
       "      <td>-0.967584</td>\n",
       "      <td>0.248</td>\n",
       "      <td>0</td>\n",
       "      <td>NaN</td>\n",
       "      <td>NaN</td>\n",
       "      <td>162</td>\n",
       "      <td>0.337</td>\n",
       "      <td>0.439</td>\n",
       "      <td>-142</td>\n",
       "    </tr>\n",
       "    <tr>\n",
       "      <td>334</td>\n",
       "      <td>1</td>\n",
       "      <td>2001</td>\n",
       "      <td>27.784888</td>\n",
       "      <td>6.613384</td>\n",
       "      <td>82</td>\n",
       "      <td>0.334</td>\n",
       "      <td>-0.823256</td>\n",
       "      <td>0.266</td>\n",
       "      <td>0</td>\n",
       "      <td>NaN</td>\n",
       "      <td>NaN</td>\n",
       "      <td>161</td>\n",
       "      <td>0.329</td>\n",
       "      <td>0.393</td>\n",
       "      <td>27</td>\n",
       "    </tr>\n",
       "    <tr>\n",
       "      <td>...</td>\n",
       "      <td>...</td>\n",
       "      <td>...</td>\n",
       "      <td>...</td>\n",
       "      <td>...</td>\n",
       "      <td>...</td>\n",
       "      <td>...</td>\n",
       "      <td>...</td>\n",
       "      <td>...</td>\n",
       "      <td>...</td>\n",
       "      <td>...</td>\n",
       "      <td>...</td>\n",
       "      <td>...</td>\n",
       "      <td>...</td>\n",
       "      <td>...</td>\n",
       "      <td>...</td>\n",
       "    </tr>\n",
       "    <tr>\n",
       "      <td>1227</td>\n",
       "      <td>0</td>\n",
       "      <td>1962</td>\n",
       "      <td>26.551836</td>\n",
       "      <td>6.632002</td>\n",
       "      <td>81</td>\n",
       "      <td>0.330</td>\n",
       "      <td>-0.941609</td>\n",
       "      <td>0.260</td>\n",
       "      <td>0</td>\n",
       "      <td>NaN</td>\n",
       "      <td>NaN</td>\n",
       "      <td>161</td>\n",
       "      <td>NaN</td>\n",
       "      <td>NaN</td>\n",
       "      <td>-54</td>\n",
       "    </tr>\n",
       "    <tr>\n",
       "      <td>1228</td>\n",
       "      <td>0</td>\n",
       "      <td>1962</td>\n",
       "      <td>26.570661</td>\n",
       "      <td>6.439350</td>\n",
       "      <td>93</td>\n",
       "      <td>0.321</td>\n",
       "      <td>-0.931404</td>\n",
       "      <td>0.268</td>\n",
       "      <td>0</td>\n",
       "      <td>NaN</td>\n",
       "      <td>NaN</td>\n",
       "      <td>161</td>\n",
       "      <td>NaN</td>\n",
       "      <td>NaN</td>\n",
       "      <td>80</td>\n",
       "    </tr>\n",
       "    <tr>\n",
       "      <td>1229</td>\n",
       "      <td>0</td>\n",
       "      <td>1962</td>\n",
       "      <td>29.631065</td>\n",
       "      <td>6.536692</td>\n",
       "      <td>103</td>\n",
       "      <td>0.341</td>\n",
       "      <td>-0.818710</td>\n",
       "      <td>0.278</td>\n",
       "      <td>1</td>\n",
       "      <td>1.0</td>\n",
       "      <td>2.0</td>\n",
       "      <td>165</td>\n",
       "      <td>NaN</td>\n",
       "      <td>NaN</td>\n",
       "      <td>188</td>\n",
       "    </tr>\n",
       "    <tr>\n",
       "      <td>1230</td>\n",
       "      <td>0</td>\n",
       "      <td>1962</td>\n",
       "      <td>27.820855</td>\n",
       "      <td>6.498282</td>\n",
       "      <td>84</td>\n",
       "      <td>0.335</td>\n",
       "      <td>-0.931404</td>\n",
       "      <td>0.271</td>\n",
       "      <td>0</td>\n",
       "      <td>NaN</td>\n",
       "      <td>NaN</td>\n",
       "      <td>163</td>\n",
       "      <td>NaN</td>\n",
       "      <td>NaN</td>\n",
       "      <td>110</td>\n",
       "    </tr>\n",
       "    <tr>\n",
       "      <td>1231</td>\n",
       "      <td>1</td>\n",
       "      <td>1962</td>\n",
       "      <td>24.474477</td>\n",
       "      <td>6.573680</td>\n",
       "      <td>60</td>\n",
       "      <td>0.308</td>\n",
       "      <td>-0.986177</td>\n",
       "      <td>0.250</td>\n",
       "      <td>0</td>\n",
       "      <td>NaN</td>\n",
       "      <td>NaN</td>\n",
       "      <td>162</td>\n",
       "      <td>NaN</td>\n",
       "      <td>NaN</td>\n",
       "      <td>-117</td>\n",
       "    </tr>\n",
       "  </tbody>\n",
       "</table>\n",
       "<p>902 rows × 15 columns</p>\n",
       "</div>"
      ],
      "text/plain": [
       "      League  Year         RS        RA    W    OBP       SLG     BA  \\\n",
       "330        1  2001  26.286879  6.593045   75  0.327 -0.903868  0.261   \n",
       "331        0  2001  28.600699  6.517671   92  0.341 -0.816445  0.267   \n",
       "332        0  2001  27.000000  6.466145   88  0.324 -0.886732  0.260   \n",
       "333        1  2001  26.210685  6.720220   63  0.319 -0.967584  0.248   \n",
       "334        1  2001  27.784888  6.613384   82  0.334 -0.823256  0.266   \n",
       "...      ...   ...        ...       ...  ...    ...       ...    ...   \n",
       "1227       0  1962  26.551836  6.632002   81  0.330 -0.941609  0.260   \n",
       "1228       0  1962  26.570661  6.439350   93  0.321 -0.931404  0.268   \n",
       "1229       0  1962  29.631065  6.536692  103  0.341 -0.818710  0.278   \n",
       "1230       0  1962  27.820855  6.498282   84  0.335 -0.931404  0.271   \n",
       "1231       1  1962  24.474477  6.573680   60  0.308 -0.986177  0.250   \n",
       "\n",
       "      Playoffs  RankSeason  RankPlayoffs    G   OOBP   OSLG   RD  \n",
       "330          0         NaN           NaN  162  0.331  0.412  -39  \n",
       "331          1         5.0           1.0  162  0.311  0.404  141  \n",
       "332          1         7.0           3.0  162  0.314  0.384   86  \n",
       "333          0         NaN           NaN  162  0.337  0.439 -142  \n",
       "334          0         NaN           NaN  161  0.329  0.393   27  \n",
       "...        ...         ...           ...  ...    ...    ...  ...  \n",
       "1227         0         NaN           NaN  161    NaN    NaN  -54  \n",
       "1228         0         NaN           NaN  161    NaN    NaN   80  \n",
       "1229         1         1.0           2.0  165    NaN    NaN  188  \n",
       "1230         0         NaN           NaN  163    NaN    NaN  110  \n",
       "1231         0         NaN           NaN  162    NaN    NaN -117  \n",
       "\n",
       "[902 rows x 15 columns]"
      ]
     },
     "execution_count": 35,
     "metadata": {},
     "output_type": "execute_result"
    }
   ],
   "source": [
    "df1.iloc[:,1:]"
   ]
  },
  {
   "cell_type": "code",
   "execution_count": 36,
   "metadata": {},
   "outputs": [],
   "source": [
    "df1_ = imputer.fit_transform(df1.iloc[:,1:])"
   ]
  },
  {
   "cell_type": "code",
   "execution_count": 37,
   "metadata": {},
   "outputs": [],
   "source": [
    "x = pd.DataFrame(df1_ , columns = df1.columns[1:])"
   ]
  },
  {
   "cell_type": "code",
   "execution_count": 38,
   "metadata": {},
   "outputs": [],
   "source": [
    "x['RankPlayoffs'] = round(x['RankPlayoffs'])\n",
    "x['RankSeason'] = (x['RankSeason'])"
   ]
  },
  {
   "cell_type": "code",
   "execution_count": 39,
   "metadata": {},
   "outputs": [],
   "source": [
    "a =pd.Series( df1['Team'].values)"
   ]
  },
  {
   "cell_type": "code",
   "execution_count": 40,
   "metadata": {},
   "outputs": [
    {
     "data": {
      "text/html": [
       "<div>\n",
       "<style scoped>\n",
       "    .dataframe tbody tr th:only-of-type {\n",
       "        vertical-align: middle;\n",
       "    }\n",
       "\n",
       "    .dataframe tbody tr th {\n",
       "        vertical-align: top;\n",
       "    }\n",
       "\n",
       "    .dataframe thead th {\n",
       "        text-align: right;\n",
       "    }\n",
       "</style>\n",
       "<table border=\"1\" class=\"dataframe\">\n",
       "  <thead>\n",
       "    <tr style=\"text-align: right;\">\n",
       "      <th></th>\n",
       "      <th>0</th>\n",
       "      <th>League</th>\n",
       "      <th>Year</th>\n",
       "      <th>RS</th>\n",
       "      <th>RA</th>\n",
       "      <th>W</th>\n",
       "      <th>OBP</th>\n",
       "      <th>SLG</th>\n",
       "      <th>BA</th>\n",
       "      <th>Playoffs</th>\n",
       "      <th>RankSeason</th>\n",
       "      <th>RankPlayoffs</th>\n",
       "      <th>G</th>\n",
       "      <th>OOBP</th>\n",
       "      <th>OSLG</th>\n",
       "      <th>RD</th>\n",
       "    </tr>\n",
       "  </thead>\n",
       "  <tbody>\n",
       "    <tr>\n",
       "      <td>0</td>\n",
       "      <td>ANA</td>\n",
       "      <td>1.0</td>\n",
       "      <td>2001.0</td>\n",
       "      <td>26.286879</td>\n",
       "      <td>6.593045</td>\n",
       "      <td>75.0</td>\n",
       "      <td>0.327</td>\n",
       "      <td>-0.903868</td>\n",
       "      <td>0.261</td>\n",
       "      <td>0.0</td>\n",
       "      <td>4.2</td>\n",
       "      <td>3.0</td>\n",
       "      <td>162.0</td>\n",
       "      <td>0.331</td>\n",
       "      <td>0.412</td>\n",
       "      <td>-39.0</td>\n",
       "    </tr>\n",
       "    <tr>\n",
       "      <td>1</td>\n",
       "      <td>ARI</td>\n",
       "      <td>0.0</td>\n",
       "      <td>2001.0</td>\n",
       "      <td>28.600699</td>\n",
       "      <td>6.517671</td>\n",
       "      <td>92.0</td>\n",
       "      <td>0.341</td>\n",
       "      <td>-0.816445</td>\n",
       "      <td>0.267</td>\n",
       "      <td>1.0</td>\n",
       "      <td>5.0</td>\n",
       "      <td>1.0</td>\n",
       "      <td>162.0</td>\n",
       "      <td>0.311</td>\n",
       "      <td>0.404</td>\n",
       "      <td>141.0</td>\n",
       "    </tr>\n",
       "    <tr>\n",
       "      <td>2</td>\n",
       "      <td>ATL</td>\n",
       "      <td>0.0</td>\n",
       "      <td>2001.0</td>\n",
       "      <td>27.000000</td>\n",
       "      <td>6.466145</td>\n",
       "      <td>88.0</td>\n",
       "      <td>0.324</td>\n",
       "      <td>-0.886732</td>\n",
       "      <td>0.260</td>\n",
       "      <td>1.0</td>\n",
       "      <td>7.0</td>\n",
       "      <td>3.0</td>\n",
       "      <td>162.0</td>\n",
       "      <td>0.314</td>\n",
       "      <td>0.384</td>\n",
       "      <td>86.0</td>\n",
       "    </tr>\n",
       "    <tr>\n",
       "      <td>3</td>\n",
       "      <td>BAL</td>\n",
       "      <td>1.0</td>\n",
       "      <td>2001.0</td>\n",
       "      <td>26.210685</td>\n",
       "      <td>6.720220</td>\n",
       "      <td>63.0</td>\n",
       "      <td>0.319</td>\n",
       "      <td>-0.967584</td>\n",
       "      <td>0.248</td>\n",
       "      <td>0.0</td>\n",
       "      <td>4.2</td>\n",
       "      <td>3.0</td>\n",
       "      <td>162.0</td>\n",
       "      <td>0.337</td>\n",
       "      <td>0.439</td>\n",
       "      <td>-142.0</td>\n",
       "    </tr>\n",
       "    <tr>\n",
       "      <td>4</td>\n",
       "      <td>BOS</td>\n",
       "      <td>1.0</td>\n",
       "      <td>2001.0</td>\n",
       "      <td>27.784888</td>\n",
       "      <td>6.613384</td>\n",
       "      <td>82.0</td>\n",
       "      <td>0.334</td>\n",
       "      <td>-0.823256</td>\n",
       "      <td>0.266</td>\n",
       "      <td>0.0</td>\n",
       "      <td>5.0</td>\n",
       "      <td>3.0</td>\n",
       "      <td>161.0</td>\n",
       "      <td>0.329</td>\n",
       "      <td>0.393</td>\n",
       "      <td>27.0</td>\n",
       "    </tr>\n",
       "  </tbody>\n",
       "</table>\n",
       "</div>"
      ],
      "text/plain": [
       "     0  League    Year         RS        RA     W    OBP       SLG     BA  \\\n",
       "0  ANA     1.0  2001.0  26.286879  6.593045  75.0  0.327 -0.903868  0.261   \n",
       "1  ARI     0.0  2001.0  28.600699  6.517671  92.0  0.341 -0.816445  0.267   \n",
       "2  ATL     0.0  2001.0  27.000000  6.466145  88.0  0.324 -0.886732  0.260   \n",
       "3  BAL     1.0  2001.0  26.210685  6.720220  63.0  0.319 -0.967584  0.248   \n",
       "4  BOS     1.0  2001.0  27.784888  6.613384  82.0  0.334 -0.823256  0.266   \n",
       "\n",
       "   Playoffs  RankSeason  RankPlayoffs      G   OOBP   OSLG     RD  \n",
       "0       0.0         4.2           3.0  162.0  0.331  0.412  -39.0  \n",
       "1       1.0         5.0           1.0  162.0  0.311  0.404  141.0  \n",
       "2       1.0         7.0           3.0  162.0  0.314  0.384   86.0  \n",
       "3       0.0         4.2           3.0  162.0  0.337  0.439 -142.0  \n",
       "4       0.0         5.0           3.0  161.0  0.329  0.393   27.0  "
      ]
     },
     "execution_count": 40,
     "metadata": {},
     "output_type": "execute_result"
    }
   ],
   "source": [
    "df2 = pd.concat((a,x), axis = 1, sort = True)\n",
    "df2.head()"
   ]
  },
  {
   "cell_type": "markdown",
   "metadata": {},
   "source": [
    "#### Predicting the No Of Wins by Oakland Athletics before playoffs in the year 2001"
   ]
  },
  {
   "cell_type": "markdown",
   "metadata": {},
   "source": [
    "###### Prediction using Linear Regression"
   ]
  },
  {
   "cell_type": "code",
   "execution_count": 41,
   "metadata": {},
   "outputs": [],
   "source": [
    "from sklearn.linear_model import LinearRegression"
   ]
  },
  {
   "cell_type": "code",
   "execution_count": 42,
   "metadata": {},
   "outputs": [],
   "source": [
    "#Model Prediction for Runs Scored\n",
    "x = df2[['OBP','SLG']]\n",
    "y = df2['RS']\n",
    "RS_model = LinearRegression()\n",
    "RS_model.fit(x,y)\n",
    "b0 = RS_model.intercept_\n",
    "b1, b2 = RS_model.coef_"
   ]
  },
  {
   "cell_type": "code",
   "execution_count": 43,
   "metadata": {},
   "outputs": [
    {
     "name": "stdout",
     "output_type": "stream",
     "text": [
      "Our model is in the following form:\n",
      "RS = 20.727956707409348 + 51.56781349489328 * (OBP) + 11.665976054538284 *(SLG)\n"
     ]
    }
   ],
   "source": [
    "print('Our model is in the following form:')\n",
    "print('RS =', b0, '+', b1,'* (OBP) +', b2, '*(SLG)')"
   ]
  },
  {
   "cell_type": "code",
   "execution_count": 44,
   "metadata": {},
   "outputs": [],
   "source": [
    "#Model Prediction for Runs Allowed\n",
    "x = df2[['OOBP','OSLG']]\n",
    "y = df2['RA']\n",
    "RA_model = LinearRegression()\n",
    "RA_model.fit(x,y)\n",
    "b0a = RA_model.intercept_\n",
    "b1a, b2a = RA_model.coef_"
   ]
  },
  {
   "cell_type": "code",
   "execution_count": 45,
   "metadata": {},
   "outputs": [
    {
     "name": "stdout",
     "output_type": "stream",
     "text": [
      "Our model is in the following form:\n",
      "RA = 4.600202480019124 + 1.8841554698243022 * (OOBP) + 3.020383138691235 *(OSLG)\n"
     ]
    }
   ],
   "source": [
    "print('Our model is in the following form:')\n",
    "print('RA =', b0a, '+', b1a,'* (OOBP) +', b2a, '*(OSLG)')"
   ]
  },
  {
   "cell_type": "code",
   "execution_count": 46,
   "metadata": {},
   "outputs": [],
   "source": [
    "# Extracting our variables from the dataframe.\n",
    "x = df2[['RD']].values\n",
    "y = df2[['W']].values# Calling our model object.\n",
    "W_model = LinearRegression()# Fitting the model.\n",
    "W_model.fit(x,y)# Printing model intercept and coefficients.\n",
    "b0b = W_model.intercept_\n",
    "b1b = W_model.coef_"
   ]
  },
  {
   "cell_type": "code",
   "execution_count": 47,
   "metadata": {},
   "outputs": [
    {
     "name": "stdout",
     "output_type": "stream",
     "text": [
      "Our model is in the following form:\n",
      "W = [80.88137472] + [[0.10576562]] * (RD)\n"
     ]
    }
   ],
   "source": [
    "print('Our model is in the following form:')\n",
    "print('W =', b0b, '+', b1b,'* (RD)')"
   ]
  },
  {
   "cell_type": "code",
   "execution_count": null,
   "metadata": {},
   "outputs": [],
   "source": []
  },
  {
   "cell_type": "markdown",
   "metadata": {},
   "source": [
    "Model Predictions\n",
    "\n",
    "Here are the Oakland Athletics statistics in 2001 before the playoffs.\n",
    "\n",
    "OBP: 0.339\n",
    "\n",
    "SLG: 0.430 => np.log(.430) = -0.843970070294529\n",
    "\n",
    "OOBP: 0.307\n",
    "\n",
    "OSLG: 0.373\n",
    "Lets plug in these values into the above models to generate predictions."
   ]
  },
  {
   "cell_type": "code",
   "execution_count": 48,
   "metadata": {},
   "outputs": [
    {
     "data": {
      "text/plain": [
       "array([804.50009326])"
      ]
     },
     "execution_count": 48,
     "metadata": {},
     "output_type": "execute_result"
    }
   ],
   "source": [
    "#Prediction of Runs Scored:\n",
    "rs = RS_model.predict([[.339,-0.843970070294529]])\n",
    "rs**2"
   ]
  },
  {
   "cell_type": "code",
   "execution_count": 49,
   "metadata": {},
   "outputs": [
    {
     "data": {
      "text/plain": [
       "array([547.43356945])"
      ]
     },
     "execution_count": 49,
     "metadata": {},
     "output_type": "execute_result"
    }
   ],
   "source": [
    "#Prediction of Runs Allowed:\n",
    "ra = RA_model.predict([[.307,.373]])\n",
    "np.exp(ra)"
   ]
  },
  {
   "cell_type": "code",
   "execution_count": 50,
   "metadata": {},
   "outputs": [],
   "source": [
    "temp = rs**2 - np.exp(ra)\n",
    "temp = temp[0]"
   ]
  },
  {
   "cell_type": "code",
   "execution_count": 51,
   "metadata": {},
   "outputs": [
    {
     "data": {
      "text/plain": [
       "108.07017562476891"
      ]
     },
     "execution_count": 51,
     "metadata": {},
     "output_type": "execute_result"
    }
   ],
   "source": [
    "wins = W_model.predict([[temp]])\n",
    "wins = wins[0][0]\n",
    "wins"
   ]
  },
  {
   "cell_type": "code",
   "execution_count": 52,
   "metadata": {},
   "outputs": [
    {
     "name": "stdout",
     "output_type": "stream",
     "text": [
      "Number of wins predicted by using Linear Regression mmodel is 108.0\n"
     ]
    }
   ],
   "source": [
    "print('Number of wins predicted by using Linear Regression mmodel is', round(wins)) "
   ]
  },
  {
   "cell_type": "markdown",
   "metadata": {},
   "source": [
    "The Actual no of wins recorded was 103 but here we can see that the Linear Regression has given us a value of 108. One of the main reason for the discrepancy(5) is that the values of OOBP and OLSG was not given and we had to to stimulate them."
   ]
  },
  {
   "cell_type": "markdown",
   "metadata": {},
   "source": [
    "###### Using RandomForestRegressor"
   ]
  },
  {
   "cell_type": "code",
   "execution_count": 53,
   "metadata": {},
   "outputs": [],
   "source": [
    "from sklearn.ensemble import RandomForestRegressor\n",
    "from sklearn.model_selection import RandomizedSearchCV\n",
    "from sklearn.model_selection import cross_val_score, KFold"
   ]
  },
  {
   "cell_type": "code",
   "execution_count": 54,
   "metadata": {},
   "outputs": [],
   "source": [
    "params = {'n_estimators': range(100,250),\n",
    "         'criterion':['mse'],\n",
    "         'max_depth':range(1,40),\n",
    "          'min_samples_split':range(2,6),\n",
    "          'min_samples_leaf':range(1,4),\n",
    "          'random_state':[0]\n",
    "         }"
   ]
  },
  {
   "cell_type": "markdown",
   "metadata": {},
   "source": [
    "Model Prediction for Runs Scored"
   ]
  },
  {
   "cell_type": "code",
   "execution_count": 55,
   "metadata": {},
   "outputs": [],
   "source": [
    "x = df2[['OBP','SLG']]\n",
    "y = df2['RS']\n",
    "rf_rs = RandomForestRegressor()"
   ]
  },
  {
   "cell_type": "code",
   "execution_count": 56,
   "metadata": {},
   "outputs": [
    {
     "data": {
      "text/plain": [
       "RandomizedSearchCV(cv=KFold(n_splits=5, random_state=0, shuffle=True),\n",
       "                   estimator=RandomForestRegressor(), n_jobs=-1,\n",
       "                   param_distributions={'criterion': ['mse'],\n",
       "                                        'max_depth': range(1, 40),\n",
       "                                        'min_samples_leaf': range(1, 4),\n",
       "                                        'min_samples_split': range(2, 6),\n",
       "                                        'n_estimators': range(100, 250),\n",
       "                                        'random_state': [0]},\n",
       "                   random_state=0, scoring='neg_mean_squared_error')"
      ]
     },
     "execution_count": 56,
     "metadata": {},
     "output_type": "execute_result"
    }
   ],
   "source": [
    "kfold = KFold(n_splits = 5, shuffle = True, random_state = 0)\n",
    "rs_rf_rs = RandomizedSearchCV(rf_rs, params, n_jobs = -1, random_state = 0, scoring = 'neg_mean_squared_error', cv = kfold)\n",
    "rs_rf_rs.fit(x,y)"
   ]
  },
  {
   "cell_type": "code",
   "execution_count": 57,
   "metadata": {},
   "outputs": [
    {
     "data": {
      "text/plain": [
       "800.5180639095063"
      ]
     },
     "execution_count": 57,
     "metadata": {},
     "output_type": "execute_result"
    }
   ],
   "source": [
    "rf_rs = RandomForestRegressor(**rs_rf_rs.best_params_)\n",
    "rf_rs.fit(x,y)\n",
    "temp = rf_rs.predict([[.339,-0.843970070294529]])\n",
    "rs1 = (temp**2)[0]\n",
    "rs1"
   ]
  },
  {
   "cell_type": "markdown",
   "metadata": {},
   "source": [
    "Model Prediction for Runs Allowed"
   ]
  },
  {
   "cell_type": "code",
   "execution_count": 58,
   "metadata": {},
   "outputs": [],
   "source": [
    "x = df2[['OOBP','OSLG']]\n",
    "y = df2['RA']\n",
    "rf_ra = RandomForestRegressor()"
   ]
  },
  {
   "cell_type": "code",
   "execution_count": 59,
   "metadata": {},
   "outputs": [
    {
     "data": {
      "text/plain": [
       "RandomizedSearchCV(cv=KFold(n_splits=5, random_state=0, shuffle=True),\n",
       "                   estimator=RandomForestRegressor(), n_jobs=-1,\n",
       "                   param_distributions={'criterion': ['mse'],\n",
       "                                        'max_depth': range(1, 40),\n",
       "                                        'min_samples_leaf': range(1, 4),\n",
       "                                        'min_samples_split': range(2, 6),\n",
       "                                        'n_estimators': range(100, 250),\n",
       "                                        'random_state': [0]},\n",
       "                   random_state=0, scoring='neg_mean_squared_error')"
      ]
     },
     "execution_count": 59,
     "metadata": {},
     "output_type": "execute_result"
    }
   ],
   "source": [
    "rs_rf_ra = RandomizedSearchCV(rf_ra, params, n_jobs = -1, cv = kfold, scoring = 'neg_mean_squared_error', random_state = 0)\n",
    "rs_rf_ra.fit(x,y)"
   ]
  },
  {
   "cell_type": "code",
   "execution_count": 60,
   "metadata": {},
   "outputs": [
    {
     "data": {
      "text/plain": [
       "628.8827072740313"
      ]
     },
     "execution_count": 60,
     "metadata": {},
     "output_type": "execute_result"
    }
   ],
   "source": [
    "rf_ra = RandomForestRegressor(**rs_rf_ra.best_params_)\n",
    "rf_ra.fit(x,y)\n",
    "temp = rf_ra.predict([[.307,.373]])\n",
    "ra1 = np.exp(temp)[0]\n",
    "ra1"
   ]
  },
  {
   "cell_type": "code",
   "execution_count": 61,
   "metadata": {},
   "outputs": [
    {
     "data": {
      "text/plain": [
       "171.63535663547498"
      ]
     },
     "execution_count": 61,
     "metadata": {},
     "output_type": "execute_result"
    }
   ],
   "source": [
    "rd1 = rs1 - ra1\n",
    "rd1"
   ]
  },
  {
   "cell_type": "markdown",
   "metadata": {},
   "source": [
    "Model Prediction for number of Wins"
   ]
  },
  {
   "cell_type": "code",
   "execution_count": 62,
   "metadata": {},
   "outputs": [],
   "source": [
    "x = np.array(df2['RD']).reshape(-1,1)\n",
    "y = df2['W']\n",
    "rf_w = RandomForestRegressor()"
   ]
  },
  {
   "cell_type": "code",
   "execution_count": 63,
   "metadata": {},
   "outputs": [
    {
     "data": {
      "text/plain": [
       "RandomizedSearchCV(cv=KFold(n_splits=5, random_state=0, shuffle=True),\n",
       "                   estimator=RandomForestRegressor(), n_jobs=-1,\n",
       "                   param_distributions={'criterion': ['mse'],\n",
       "                                        'max_depth': range(1, 40),\n",
       "                                        'min_samples_leaf': range(1, 4),\n",
       "                                        'min_samples_split': range(2, 6),\n",
       "                                        'n_estimators': range(100, 250),\n",
       "                                        'random_state': [0]},\n",
       "                   random_state=0, scoring='neg_mean_squared_error')"
      ]
     },
     "execution_count": 63,
     "metadata": {},
     "output_type": "execute_result"
    }
   ],
   "source": [
    "rs_rf_w = RandomizedSearchCV(rf_w, params, cv = kfold, scoring = 'neg_mean_squared_error', n_jobs = -1, random_state = 0)\n",
    "rs_rf_w.fit(x,y)"
   ]
  },
  {
   "cell_type": "code",
   "execution_count": 64,
   "metadata": {},
   "outputs": [
    {
     "data": {
      "text/plain": [
       "{'random_state': 0,\n",
       " 'n_estimators': 193,\n",
       " 'min_samples_split': 3,\n",
       " 'min_samples_leaf': 3,\n",
       " 'max_depth': 12,\n",
       " 'criterion': 'mse'}"
      ]
     },
     "execution_count": 64,
     "metadata": {},
     "output_type": "execute_result"
    }
   ],
   "source": [
    "rs_rf_w.best_params_"
   ]
  },
  {
   "cell_type": "code",
   "execution_count": 65,
   "metadata": {},
   "outputs": [
    {
     "data": {
      "text/plain": [
       "RandomForestRegressor(max_depth=12, min_samples_leaf=3, min_samples_split=3,\n",
       "                      n_estimators=193, random_state=0)"
      ]
     },
     "execution_count": 65,
     "metadata": {},
     "output_type": "execute_result"
    }
   ],
   "source": [
    "rf_w = RandomForestRegressor(**rs_rf_w.best_params_)\n",
    "rf_w.fit(x,y)"
   ]
  },
  {
   "cell_type": "code",
   "execution_count": 66,
   "metadata": {},
   "outputs": [
    {
     "data": {
      "text/plain": [
       "99.64390737357051"
      ]
     },
     "execution_count": 66,
     "metadata": {},
     "output_type": "execute_result"
    }
   ],
   "source": [
    "win = rf_w.predict(np.array(rd1).reshape(-1,1))[0]\n",
    "win"
   ]
  },
  {
   "cell_type": "code",
   "execution_count": 67,
   "metadata": {},
   "outputs": [
    {
     "name": "stdout",
     "output_type": "stream",
     "text": [
      "The number of Wins predicted using Random Forest Regressor is 100.0\n"
     ]
    }
   ],
   "source": [
    "print('The number of Wins predicted using Random Forest Regressor is',round(win))"
   ]
  },
  {
   "cell_type": "markdown",
   "metadata": {},
   "source": [
    "The Actual no of wins recorded was 103 but here we can see that the Reandom Forest Regressor model has given us a value of 100 which seems to be a better model compared to Liner Regressor Model. But, still we have not predicted the exact value as here too the reason for discrepancy(-3) is that the values of OOBP and OLSG was not given and we had to to stimulate them."
   ]
  },
  {
   "cell_type": "code",
   "execution_count": null,
   "metadata": {},
   "outputs": [],
   "source": []
  }
 ],
 "metadata": {
  "kernelspec": {
   "display_name": "Python 3",
   "language": "python",
   "name": "python3"
  },
  "language_info": {
   "codemirror_mode": {
    "name": "ipython",
    "version": 3
   },
   "file_extension": ".py",
   "mimetype": "text/x-python",
   "name": "python",
   "nbconvert_exporter": "python",
   "pygments_lexer": "ipython3",
   "version": "3.7.4"
  }
 },
 "nbformat": 4,
 "nbformat_minor": 2
}
